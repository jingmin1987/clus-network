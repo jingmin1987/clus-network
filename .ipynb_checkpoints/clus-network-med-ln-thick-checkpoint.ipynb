{
 "cells": [
  {
   "cell_type": "code",
   "execution_count": 3,
   "metadata": {
    "collapsed": false
   },
   "outputs": [
    {
     "data": {
      "text/html": [
       "<div>\n",
       "<table border=\"1\" class=\"dataframe\">\n",
       "  <thead>\n",
       "    <tr style=\"text-align: right;\">\n",
       "      <th></th>\n",
       "      <th>cluster</th>\n",
       "      <th>cluster_next</th>\n",
       "      <th>iv</th>\n",
       "      <th>rsq</th>\n",
       "      <th>rsq_n</th>\n",
       "      <th>source</th>\n",
       "      <th>var_name_o</th>\n",
       "    </tr>\n",
       "  </thead>\n",
       "  <tbody>\n",
       "    <tr>\n",
       "      <th>0</th>\n",
       "      <td>Clus01</td>\n",
       "      <td>Clus10</td>\n",
       "      <td>0.02</td>\n",
       "      <td>0.9</td>\n",
       "      <td>0.6</td>\n",
       "      <td>fmcc</td>\n",
       "      <td>KBS3_021</td>\n",
       "    </tr>\n",
       "    <tr>\n",
       "      <th>1</th>\n",
       "      <td>Clus01</td>\n",
       "      <td>Clus10</td>\n",
       "      <td>0.03</td>\n",
       "      <td>0.9</td>\n",
       "      <td>0.6</td>\n",
       "      <td>fmcc</td>\n",
       "      <td>ORG_175</td>\n",
       "    </tr>\n",
       "    <tr>\n",
       "      <th>2</th>\n",
       "      <td>Clus01</td>\n",
       "      <td>Clus10</td>\n",
       "      <td>0.03</td>\n",
       "      <td>0.9</td>\n",
       "      <td>0.6</td>\n",
       "      <td>fmcc</td>\n",
       "      <td>ORG_173</td>\n",
       "    </tr>\n",
       "    <tr>\n",
       "      <th>3</th>\n",
       "      <td>Clus01</td>\n",
       "      <td>Clus10</td>\n",
       "      <td>0.03</td>\n",
       "      <td>0.9</td>\n",
       "      <td>0.6</td>\n",
       "      <td>fmcc</td>\n",
       "      <td>ORG_171</td>\n",
       "    </tr>\n",
       "    <tr>\n",
       "      <th>4</th>\n",
       "      <td>Clus01</td>\n",
       "      <td>Clus10</td>\n",
       "      <td>0.02</td>\n",
       "      <td>0.8</td>\n",
       "      <td>0.6</td>\n",
       "      <td>fmcc</td>\n",
       "      <td>KBS3_028</td>\n",
       "    </tr>\n",
       "  </tbody>\n",
       "</table>\n",
       "</div>"
      ],
      "text/plain": [
       "  cluster cluster_next    iv  rsq  rsq_n source var_name_o\n",
       "0  Clus01       Clus10  0.02  0.9    0.6   fmcc   KBS3_021\n",
       "1  Clus01       Clus10  0.03  0.9    0.6   fmcc    ORG_175\n",
       "2  Clus01       Clus10  0.03  0.9    0.6   fmcc    ORG_173\n",
       "3  Clus01       Clus10  0.03  0.9    0.6   fmcc    ORG_171\n",
       "4  Clus01       Clus10  0.02  0.8    0.6   fmcc   KBS3_028"
      ]
     },
     "execution_count": 3,
     "metadata": {},
     "output_type": "execute_result"
    }
   ],
   "source": [
    "# -*- coding: utf-8 -*-\n",
    "\"\"\"\n",
    "Created on Mon Feb 27 21:35:59 2017\n",
    "\n",
    "Visualize SAS Proc Varclus and where LexisNexis variables fit in\n",
    "the existing cluster structure\n",
    "\n",
    "@author: Jingmin\n",
    "\"\"\"\n",
    "\n",
    "import plotly.plotly as py\n",
    "import plotly.graph_objs as go\n",
    "import networkx as nx\n",
    "import pandas as pd\n",
    "import numpy as np\n",
    "\n",
    "# Import cluster structure data\n",
    "df = pd.read_csv(\n",
    "   r'C:\\Users\\GlowingToilet\\Google Drive\\Projects\\clus-network\\CB_ALL_Med_Thick.csv'\n",
    ")\n",
    "\n",
    "df.drop(['var_name', 'rsquared_ratio', 'Gini_Statistic', 'Information_Value_Ordering'], axis=1, inplace=True)\n",
    "df['Information_Value'] = df.apply(lambda x: np.round(x['Information_Value'], decimals=2), axis=1)\n",
    "df['rsquared'] = df.apply(lambda x: np.round(x['rsquared'], decimals=1), axis=1)\n",
    "df['rsquared_next'] = df.apply(lambda x: np.round(x['rsquared_next'], decimals=1), axis=1)\n",
    "\n",
    "df = df.loc[lambda x: x['Information_Value'] > 0.01, :]\n",
    "df.rename(columns=dict(Information_Value='iv', rsquared='rsq', rsquared_next='rsq_n'), inplace=True)\n",
    "\n",
    "# Import VC2 to potentially re-assign LN vars\n",
    "\n",
    "vc2 = pd.read_csv(\n",
    "   r'C:\\Users\\GlowingToilet\\Google Drive\\Projects\\clus-network\\VC2.csv'\n",
    ")\n",
    "\n",
    "vc2['var_name_o'] = vc2['var_name'].apply(lambda x: x[4:])\n",
    "vc2['rsquared'] = vc2.apply(lambda x: np.round(x['rsquared'], decimals=1), axis=1)\n",
    "vc2['rsquared_next'] = vc2.apply(lambda x: np.round(x['rsquared_next'], decimals=1), axis=1)\n",
    "vc2.rename(columns=dict(rsquared='rsq', rsquared_next='rsq_n'), inplace=True)\n",
    "vc2.drop(['var_name', 'rsquared_ratio'], axis=1, inplace=True)\n",
    "\n",
    "df = df.merge(vc2, how='left', on='var_name_o')\n",
    "\n",
    "def compare(row):\n",
    "    cluster, rsq, cluster_n, rsq_n = row['cluster_x'], row['rsq_x'], row['clus_next_x'], row['rsq_n_x']\n",
    "    source = row['source']\n",
    "    \n",
    "    if np.isnan(row['rsq_y']):\n",
    "        pass\n",
    "    elif row['rsq_y'] > row['rsq_n_x']:\n",
    "        if row['rsq_y'] > row['rsq_x']:\n",
    "            cluster, rsq = row['cluster_y'], row['rsq_y']\n",
    "            source = 'fmcc'\n",
    "            if row['rsq_n_y'] > row['rsq_x']:\n",
    "                cluster_n, rsq_n = row['clus_next_y'], row['rsq_n_y']\n",
    "            else:\n",
    "                cluster_n, rsq_n = row['cluster_x'], row['rsq_x']\n",
    "        elif row['rsq_y'] > row['rsq_n_x']:\n",
    "            cluster_n, rsq_n = row['cluster_y'], row['rsq_y']\n",
    "    \n",
    "    return pd.Series(\n",
    "        dict(\n",
    "             var_name_o=row['var_name_o'],\n",
    "             iv=row['iv'],\n",
    "             cluster=cluster,\n",
    "             rsq=rsq, \n",
    "             cluster_next=cluster_n, \n",
    "             rsq_n=rsq_n,\n",
    "             source=source\n",
    "        )\n",
    "    )\n",
    "            \n",
    "df = df.apply(compare, axis=1)\n",
    "# df.to_csv(r'C:\\Users\\GlowingToilet\\Google Drive\\Projects\\clus-network\\check.csv')\n",
    "    \n",
    "df.head()"
   ]
  },
  {
   "cell_type": "code",
   "execution_count": 4,
   "metadata": {
    "collapsed": false,
    "scrolled": true
   },
   "outputs": [
    {
     "data": {
      "text/html": [
       "<div>\n",
       "<table border=\"1\" class=\"dataframe\">\n",
       "  <thead>\n",
       "    <tr style=\"text-align: right;\">\n",
       "      <th></th>\n",
       "      <th>iv</th>\n",
       "      <th>rsq</th>\n",
       "      <th>rsq_n</th>\n",
       "    </tr>\n",
       "  </thead>\n",
       "  <tbody>\n",
       "    <tr>\n",
       "      <th>count</th>\n",
       "      <td>965.000000</td>\n",
       "      <td>965.000000</td>\n",
       "      <td>965.000000</td>\n",
       "    </tr>\n",
       "    <tr>\n",
       "      <th>mean</th>\n",
       "      <td>0.049627</td>\n",
       "      <td>0.686425</td>\n",
       "      <td>0.379482</td>\n",
       "    </tr>\n",
       "    <tr>\n",
       "      <th>std</th>\n",
       "      <td>0.050924</td>\n",
       "      <td>0.230848</td>\n",
       "      <td>0.229318</td>\n",
       "    </tr>\n",
       "    <tr>\n",
       "      <th>min</th>\n",
       "      <td>0.020000</td>\n",
       "      <td>0.000000</td>\n",
       "      <td>0.000000</td>\n",
       "    </tr>\n",
       "    <tr>\n",
       "      <th>25%</th>\n",
       "      <td>0.020000</td>\n",
       "      <td>0.600000</td>\n",
       "      <td>0.200000</td>\n",
       "    </tr>\n",
       "    <tr>\n",
       "      <th>50%</th>\n",
       "      <td>0.040000</td>\n",
       "      <td>0.700000</td>\n",
       "      <td>0.400000</td>\n",
       "    </tr>\n",
       "    <tr>\n",
       "      <th>75%</th>\n",
       "      <td>0.050000</td>\n",
       "      <td>0.900000</td>\n",
       "      <td>0.500000</td>\n",
       "    </tr>\n",
       "    <tr>\n",
       "      <th>max</th>\n",
       "      <td>0.440000</td>\n",
       "      <td>1.000000</td>\n",
       "      <td>0.900000</td>\n",
       "    </tr>\n",
       "  </tbody>\n",
       "</table>\n",
       "</div>"
      ],
      "text/plain": [
       "               iv         rsq       rsq_n\n",
       "count  965.000000  965.000000  965.000000\n",
       "mean     0.049627    0.686425    0.379482\n",
       "std      0.050924    0.230848    0.229318\n",
       "min      0.020000    0.000000    0.000000\n",
       "25%      0.020000    0.600000    0.200000\n",
       "50%      0.040000    0.700000    0.400000\n",
       "75%      0.050000    0.900000    0.500000\n",
       "max      0.440000    1.000000    0.900000"
      ]
     },
     "execution_count": 4,
     "metadata": {},
     "output_type": "execute_result"
    }
   ],
   "source": [
    "max_iv = df.iv.max()\n",
    "\n",
    "df.describe()"
   ]
  },
  {
   "cell_type": "code",
   "execution_count": 5,
   "metadata": {
    "collapsed": false
   },
   "outputs": [
    {
     "name": "stdout",
     "output_type": "stream",
     "text": [
      "Done\n"
     ]
    }
   ],
   "source": [
    "# Empty graph\n",
    "G = nx.Graph()\n",
    "\n",
    "# Add nodes and edges\n",
    "corr = 0.7\n",
    "\n",
    "for row in df.itertuples():\n",
    "    _, clus, clus_n, iv, rsq, rsq_n, source, var = tuple(row)\n",
    "    G.add_node(clus, type='clus', cluster=clus, source=source)\n",
    "    G.add_node(var, type='var', cluster=clus, source=source, iv=iv, rsq=rsq)     \n",
    "    \n",
    "    if rsq > corr ** 2:\n",
    "        G.add_edge(clus, var, rsq=rsq)\n",
    "    if rsq_n > corr ** 2:\n",
    "        G.add_edge(clus_n, var, rsq=rsq_n)     \n",
    "\n",
    "print('Done')"
   ]
  },
  {
   "cell_type": "code",
   "execution_count": 6,
   "metadata": {
    "collapsed": false
   },
   "outputs": [
    {
     "name": "stdout",
     "output_type": "stream",
     "text": [
      "Done\n"
     ]
    }
   ],
   "source": [
    "# Generate layout\n",
    "pos = nx.spring_layout(G)\n",
    "print('Done')"
   ]
  },
  {
   "cell_type": "code",
   "execution_count": 7,
   "metadata": {
    "collapsed": false
   },
   "outputs": [
    {
     "name": "stdout",
     "output_type": "stream",
     "text": [
      "Done\n"
     ]
    }
   ],
   "source": [
    "# Customize the plot\n",
    "edge_trace = go.Scatter(\n",
    "    x=[],                     \n",
    "    y=[],\n",
    "    line=go.Line(\n",
    "        width=[],\n",
    "        color='#CCC',\n",
    "    ),\n",
    "    hoverinfo=None,\n",
    "    mode='line'\n",
    ")\n",
    "\n",
    "for edge in G.edges():\n",
    "    x0, y0 = pos[edge[0]]\n",
    "    x1, y1 = pos[edge[1]]\n",
    "    edge_trace['x'] += [x0, x1, None]\n",
    "    edge_trace['y'] += [y0, y1, None]\n",
    "    edge_trace['line']['width'].append(G[edge[0]][edge[1]]['rsq'])\n",
    "    \n",
    "node_trace = go.Scatter(\n",
    "    x=[], \n",
    "    y=[], \n",
    "    text=[],\n",
    "    marker=go.Marker(\n",
    "        showscale=True,\n",
    "        colorscale='Portland',\n",
    "        color=[], \n",
    "        size=[],\n",
    "        symbol=[],       \n",
    "        colorbar=dict(\n",
    "            thickness=15,\n",
    "            title='Cluster',\n",
    "            xanchor='left',\n",
    "            titleside='right'\n",
    "        ),\n",
    "        line=dict(width=1)\n",
    "    ),\n",
    "    mode='markers', \n",
    "    hoverinfo='text',\n",
    ")\n",
    "        \n",
    "for node in G.nodes():\n",
    "    x, y = pos[node]\n",
    "    node_trace['x'].append(x)\n",
    "    node_trace['y'].append(y)\n",
    "    \n",
    "    if G.node[node]['type'] == 'var':\n",
    "        node_size = 5 + G.node[node]['iv'] / max_iv * 15\n",
    "        node_trace['marker']['size'].append(node_size)\n",
    "        node_info = '({0}: {3}, iv: {1}, rsq: {2})'.format(\n",
    "            node, G.node[node]['iv'], G.node[node]['rsq'], G.node[node]['cluster'])\n",
    "        \n",
    "        if G.node[node]['source'] == 'fmcc':\n",
    "            node_trace['marker']['symbol'].append('circle')\n",
    "        else:\n",
    "            node_trace['marker']['symbol'].append('x')\n",
    "        \n",
    "    else:\n",
    "        max_cluster_iv = df.loc[lambda x: x['cluster'] == node, 'iv'].max()\n",
    "        node_size = 10 + max_cluster_iv / max_iv * 25\n",
    "        node_trace['marker']['size'].append(node_size)\n",
    "        node_info = '{0} component, max iv: {1}'.format(node, max_cluster_iv)\n",
    "        if G.node[node]['source'] == 'fmcc':\n",
    "            node_trace['marker']['symbol'].append('diamond')\n",
    "        else:\n",
    "            node_trace['marker']['symbol'].append('x')\n",
    " \n",
    "    node_trace['marker']['color'].append(int(G.node[node]['cluster'][-2:]))\n",
    "    \n",
    "    node_trace['text'].append(node_info)\n",
    "\n",
    "        \n",
    "print('Done')"
   ]
  },
  {
   "cell_type": "code",
   "execution_count": 9,
   "metadata": {
    "collapsed": false
   },
   "outputs": [
    {
     "data": {
      "text/html": [
       "<iframe id=\"igraph\" scrolling=\"no\" style=\"border:none;\" seamless=\"seamless\" src=\"https://plot.ly/~jingmin1987/14.embed\" height=\"525px\" width=\"100%\"></iframe>"
      ],
      "text/plain": [
       "<plotly.tools.PlotlyDisplay object>"
      ]
     },
     "execution_count": 9,
     "metadata": {},
     "output_type": "execute_result"
    }
   ],
   "source": [
    "# Make the plot on Plotly\n",
    "fig = go.Figure(data=go.Data([edge_trace, node_trace]),\n",
    "                layout=go.Layout(\n",
    "                    title='<br>Variable Cluster Structure for Medium Thick with LN Clusters (corr > {})'.format(corr),\n",
    "                    titlefont=dict(size=16),\n",
    "                    showlegend=False, \n",
    "                    hovermode='closest',\n",
    "                    margin=dict(b=20,l=5,r=5,t=40),\n",
    "                    annotations=[ dict(\n",
    "                        showarrow=False,\n",
    "                        text=('x: LN vars/clus; diamond: Cluster component'),\n",
    "                        xref=\"paper\", yref=\"paper\",\n",
    "                        x=0.005, y=-0.002 ) ],\n",
    "                    xaxis=go.XAxis(showgrid=False, zeroline=False, showticklabels=False),\n",
    "                    yaxis=go.YAxis(showgrid=False, zeroline=False, showticklabels=False)))\n",
    "\n",
    "py.iplot(fig, filename='varclus_ln_med_thin')"
   ]
  }
 ],
 "metadata": {
  "anaconda-cloud": {},
  "kernelspec": {
   "display_name": "Python 3",
   "language": "python",
   "name": "python3"
  },
  "language_info": {
   "codemirror_mode": {
    "name": "ipython",
    "version": 3
   },
   "file_extension": ".py",
   "mimetype": "text/x-python",
   "name": "python",
   "nbconvert_exporter": "python",
   "pygments_lexer": "ipython3",
   "version": "3.6.0"
  }
 },
 "nbformat": 4,
 "nbformat_minor": 1
}
