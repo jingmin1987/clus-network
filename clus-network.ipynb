{
 "cells": [
  {
   "cell_type": "code",
   "execution_count": 2,
   "metadata": {
    "collapsed": false
   },
   "outputs": [
    {
     "name": "stdout",
     "output_type": "stream",
     "text": [
      "Done\n"
     ]
    }
   ],
   "source": [
    "# -*- coding: utf-8 -*-\n",
    "\"\"\"\n",
    "Created on Mon Feb 27 21:35:59 2017\n",
    "\n",
    "Visualize SAS Proc Varclus and where LexisNexis variables fit in\n",
    "the existing cluster structure\n",
    "\n",
    "@author: Jingmin\n",
    "\"\"\"\n",
    "\n",
    "import plotly.plotly as py\n",
    "import plotly.graph_objs as go\n",
    "import networkx as nx\n",
    "import pandas as pd\n",
    "\n",
    "# Empty graph\n",
    "G = nx.Graph()\n",
    "\n",
    "# Import cluster structure data\n",
    "fmcc = pd.read_csv(\n",
    "   r'C:\\Users\\GlowingToilet\\Google Drive\\Projects\\clus-network\\VC1.csv'\n",
    ")\n",
    "\n",
    "ln = pd.read_csv(\n",
    "   r'C:\\Users\\GlowingToilet\\Google Drive\\Projects\\clus-network\\VC2.csv'\n",
    ")\n",
    "\n",
    "# Some clean up of var_name\n",
    "fmcc['var_name'] = fmcc['var_name'].apply(lambda x: x.replace('WOE_', ''))\n",
    "ln['var_name'] = ln['var_name'].apply(lambda x: x.replace('WOE_', ''))\n",
    "\n",
    "print('Done')"
   ]
  },
  {
   "cell_type": "code",
   "execution_count": 3,
   "metadata": {
    "collapsed": false
   },
   "outputs": [
    {
     "name": "stdout",
     "output_type": "stream",
     "text": [
      "Done\n"
     ]
    }
   ],
   "source": [
    "\n",
    "# Add nodes and edges\n",
    "for row in fmcc.itertuples():\n",
    "    _, clus, var, rsq, rsq_n, clus_n, _ = tuple(row)\n",
    "    G.add_node(clus, type='clus', cluster=clus)\n",
    "    G.add_node(var, type='fmcc var', cluster=clus)     \n",
    "    G.add_node(clus_n, type='clus', cluster=clus_n)\n",
    "    if rsq > 0.25:\n",
    "        G.add_edge(clus, var, rsq=rsq)\n",
    "        if rsq_n > 0.25:\n",
    "            G.add_edge(clus_n, var, rsq=rsq_n)     \n",
    "\n",
    "    \n",
    "for row in ln.itertuples():\n",
    "    _, clus, var, rsq, rsq_n, clus_n, _ = tuple(row)\n",
    "    G.add_node(clus, type='clus', cluster=clus)\n",
    "    G.add_node(var, type='ln var', cluster=clus)     \n",
    "    G.add_node(clus_n, type='clus', cluster=clus_n)\n",
    "    if rsq > 0.25:\n",
    "        G.add_edge(clus, var, rsq=rsq)\n",
    "        if rsq_n > 0.25:\n",
    "            G.add_edge(clus_n, var, rsq=rsq_n)\n",
    "print('Done')"
   ]
  },
  {
   "cell_type": "code",
   "execution_count": 4,
   "metadata": {
    "collapsed": false
   },
   "outputs": [
    {
     "name": "stdout",
     "output_type": "stream",
     "text": [
      "Done\n"
     ]
    }
   ],
   "source": [
    "# Generate layout\n",
    "pos = nx.spring_layout(G)\n",
    "print('Done')"
   ]
  },
  {
   "cell_type": "code",
   "execution_count": 9,
   "metadata": {
    "collapsed": false
   },
   "outputs": [
    {
     "name": "stdout",
     "output_type": "stream",
     "text": [
      "Done\n"
     ]
    }
   ],
   "source": [
    "# Customize the plot\n",
    "edge_trace = go.Scatter(\n",
    "    x=[],                     \n",
    "    y=[],\n",
    "    line=go.Line(\n",
    "        width=[],\n",
    "        color='#CCC' \n",
    "    ),\n",
    "    hoverinfo=None,\n",
    "    mode='line'\n",
    ")\n",
    "\n",
    "for edge in G.edges():\n",
    "    x0, y0 = pos[edge[0]]\n",
    "    x1, y1 = pos[edge[1]]\n",
    "    edge_trace['x'] += [x0, x1, None]\n",
    "    edge_trace['y'] += [y0, y1, None]\n",
    "    edge_trace['line']['width'].append(G[edge[0]][edge[1]]['rsq'] / 2)\n",
    "    \n",
    "node_trace = go.Scatter(\n",
    "    x=[], \n",
    "    y=[], \n",
    "    text=[],\n",
    "    marker=go.Marker(\n",
    "        showscale=True,\n",
    "        colorscale='Portland',\n",
    "        color=[], \n",
    "        size=[],\n",
    "        symbol=[],       \n",
    "        colorbar=dict(\n",
    "            thickness=15,\n",
    "            title='Cluster',\n",
    "            xanchor='left',\n",
    "            titleside='right'\n",
    "        ),\n",
    "        line=dict(width=1)\n",
    "    ),\n",
    "    mode='markers', \n",
    "    hoverinfo='text',\n",
    ")\n",
    "        \n",
    "for node in G.nodes():\n",
    "    x, y = pos[node]\n",
    "    node_trace['x'].append(x)\n",
    "    node_trace['y'].append(y)\n",
    "    \n",
    "    if G.node[node]['type'].find('var') > -1:\n",
    "        node_trace['marker']['size'].append(5)\n",
    "        \n",
    "        if G.node[node]['type'] == 'fmcc var':\n",
    "            node_trace['marker']['symbol'].append('circle')\n",
    "        else:\n",
    "            node_trace['marker']['symbol'].append('x')\n",
    "        \n",
    "    else:\n",
    "        node_trace['marker']['size'].append(15)\n",
    "        node_trace['marker']['symbol'].append('diamond')\n",
    "        \n",
    "    node_trace['marker']['color'].append(int(G.node[node]['cluster'][-2:]))\n",
    "    node_trace['text'].append(node)\n",
    "print('Done')"
   ]
  },
  {
   "cell_type": "code",
   "execution_count": 12,
   "metadata": {
    "collapsed": false
   },
   "outputs": [
    {
     "data": {
      "text/html": [
       "<iframe id=\"igraph\" scrolling=\"no\" style=\"border:none;\" seamless=\"seamless\" src=\"https://plot.ly/~jingmin1987/2.embed\" height=\"525px\" width=\"100%\"></iframe>"
      ],
      "text/plain": [
       "<plotly.tools.PlotlyDisplay object>"
      ]
     },
     "execution_count": 12,
     "metadata": {},
     "output_type": "execute_result"
    }
   ],
   "source": [
    "# Make the plot on Plotly\n",
    "fig = go.Figure(data=go.Data([edge_trace, node_trace]),\n",
    "                layout=go.Layout(\n",
    "                    title='<br>Variable Cluster Structure for Medium FICO without LN Clusters',\n",
    "                    titlefont=dict(size=16),\n",
    "                    showlegend=False, \n",
    "                    hovermode='closest',\n",
    "                    margin=dict(b=20,l=5,r=5,t=40),\n",
    "                    annotations=[ dict(\n",
    "                        showarrow=False,\n",
    "                        text=(\"Github: <a href='https://github.com/jingmin1987/clus-network/'>\"\n",
    "                              'https://github.com/jingmin1987/clus-network/ </a>'\n",
    "                              '<br>x: LN vars; diamond: Cluster Component'),\n",
    "                        xref=\"paper\", yref=\"paper\",\n",
    "                        x=0.005, y=-0.002 ) ],\n",
    "                    xaxis=go.XAxis(showgrid=False, zeroline=False, showticklabels=False),\n",
    "                    yaxis=go.YAxis(showgrid=False, zeroline=False, showticklabels=False)))\n",
    "\n",
    "py.iplot(fig, filename='varclus')"
   ]
  }
 ],
 "metadata": {
  "anaconda-cloud": {},
  "kernelspec": {
   "display_name": "Python 3",
   "language": "python",
   "name": "python3"
  },
  "language_info": {
   "codemirror_mode": {
    "name": "ipython",
    "version": 3
   },
   "file_extension": ".py",
   "mimetype": "text/x-python",
   "name": "python",
   "nbconvert_exporter": "python",
   "pygments_lexer": "ipython3",
   "version": "3.6.0"
  }
 },
 "nbformat": 4,
 "nbformat_minor": 1
}
